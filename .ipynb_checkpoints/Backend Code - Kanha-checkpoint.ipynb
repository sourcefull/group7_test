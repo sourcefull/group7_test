{
 "cells": [
  {
   "cell_type": "markdown",
   "metadata": {},
   "source": [
    "### Repositories to add:\n",
    "- TextBlob\n",
    "- Pandas"
   ]
  },
  {
   "cell_type": "markdown",
   "metadata": {},
   "source": [
    "### Description:\n",
    "This first piece of code is a  function reads in the raw text data and generates appropriate dataframes for each genre. The structure of the dataframe is described later in the notebook. The data is stored in a pickled format."
   ]
  },
  {
   "cell_type": "code",
   "execution_count": 1,
   "metadata": {},
   "outputs": [],
   "source": [
    "def generate_DF(year_begin=2015, year_end=2019):\n",
    "    '''\n",
    "    Description:\n",
    "    Generating the dataframes for the genres and various features based on the raw text files\n",
    "    \n",
    "    Input:\n",
    "    year_begin = int; numerical year from which the analysis is to start\n",
    "    year_end = int; numerical year at the end of which the analysis is to terminate\n",
    "    '''\n",
    "    import os\n",
    "    import pandas as pd\n",
    "    from textblob import TextBlob\n",
    "    from datetime import datetime\n",
    "    from statistics import mean, median\n",
    "    from textblob import Word\n",
    "    import pickle\n",
    "    genre_list = os.listdir('data')\n",
    "    if '.DS_Store' in genre_list:\n",
    "            genre_list.remove('.DS_Store')\n",
    "    month_categories = list(range(1, (year_end-year_begin+1)*12 + 1)) # 2015 - 2019 (both inclusive)\n",
    "    data = dict()\n",
    "    for genre in genre_list:\n",
    "        name = genre[0: genre.find('_dataFrame.txt')]\n",
    "        df_input = pd.read_csv(os.path.join('data', genre))\n",
    "        df = pd.DataFrame(columns=[\"words\", \"frequency_time\", \"likes\", \"likes_mean\", \"likes_median\", \"dislikes\",\n",
    "                                   \"dislikes_mean\", \"dislikes_median\", \"views\", \"views_mean\", \"views_median\",\n",
    "                                   \"polarity\", \"subjectivity\"])\n",
    "        for n in range(0, len(df_input)):\n",
    "            try:\n",
    "                date = datetime.strptime(df_input.date[n], \"%b %d, %Y\")\n",
    "            except:\n",
    "                continue\n",
    "            date_score = (date.year - year_begin)*12 + date.month\n",
    "            total_text = str(df_input.title[n]) + \" \" + str(df_input.description[n])\n",
    "            Blob = TextBlob(total_text)\n",
    "            Blob = Blob.lower()\n",
    "            for word in Blob.words:\n",
    "                if len(Word(word).define())==0:\n",
    "                    continue\n",
    "                if date_score > month_categories[-1] or date_score < month_categories[0]:\n",
    "                    continue\n",
    "                if word in list(df.words):\n",
    "                    word_index = df.words[df.words==word].index[0]\n",
    "                    df.frequency_time[word_index][date_score-1]+=1\n",
    "                    df.likes[word_index].append(df_input.likes[n])\n",
    "                    df.dislikes[word_index].append(df_input.dislikes[n])\n",
    "                    df.views[word_index].append(df_input.views[n])\n",
    "                else:\n",
    "                    freq_t = [0]*len(month_categories)\n",
    "                    freq_t[month_categories.index(date_score)] += 1\n",
    "                    likes = [df_input.likes[n]];\n",
    "                    dislikes = [df_input.dislikes[n]]\n",
    "                    views = [df_input.views[n]]\n",
    "                    df = df.append(pd.DataFrame([[word, freq_t, likes, 0, 0, dislikes, 0, 0, views,\n",
    "                                                   0, 0, TextBlob(word).polarity, TextBlob(word).subjectivity]],\n",
    "                                                 columns=list(df.columns)), ignore_index=True)\n",
    "        for n in range(0, len(df)):\n",
    "            df.loc[n, 'likes_mean'] = mean(df.likes[n])\n",
    "            df.loc[n, 'likes_median'] = median(df.likes[n])\n",
    "            df.loc[n, 'dislikes_mean'] = mean(df.dislikes[n])\n",
    "            df.loc[n, 'dislikes_median'] = median(df.dislikes[n])\n",
    "            df.loc[n, 'views_mean'] = mean(df.views[n])\n",
    "            df.loc[n, 'views_median'] = median(df.views[n])\n",
    "        df.drop(columns=['likes', 'dislikes', 'views'], inplace=True)\n",
    "        data[name] = df\n",
    "        pickle.dump(data, open('data_project.p', 'wb'))"
   ]
  },
  {
   "cell_type": "markdown",
   "metadata": {},
   "source": [
    "Here's how to use this function. Note that it automatically writes the dataframes."
   ]
  },
  {
   "cell_type": "code",
   "execution_count": 2,
   "metadata": {},
   "outputs": [],
   "source": [
    "generate_DF()"
   ]
  },
  {
   "cell_type": "markdown",
   "metadata": {},
   "source": [
    "### Description:\n",
    "This second piece of code is a way to load the data using pickle."
   ]
  },
  {
   "cell_type": "code",
   "execution_count": 3,
   "metadata": {},
   "outputs": [],
   "source": [
    "import pickle"
   ]
  },
  {
   "cell_type": "code",
   "execution_count": 4,
   "metadata": {},
   "outputs": [],
   "source": [
    "data = pickle.load(open('data_project.p', 'rb'))"
   ]
  },
  {
   "cell_type": "markdown",
   "metadata": {},
   "source": [
    "So 'data' is a dictionary where the keys are the genres and the values are the corresponding dataframes."
   ]
  },
  {
   "cell_type": "code",
   "execution_count": 5,
   "metadata": {},
   "outputs": [
    {
     "data": {
      "text/plain": [
       "dict_keys(['cooking', 'influencers', 'gaming'])"
      ]
     },
     "execution_count": 5,
     "metadata": {},
     "output_type": "execute_result"
    }
   ],
   "source": [
    "data.keys()"
   ]
  },
  {
   "cell_type": "markdown",
   "metadata": {},
   "source": [
    "Here's an example of the dataframe under 'cooking'."
   ]
  },
  {
   "cell_type": "code",
   "execution_count": 6,
   "metadata": {},
   "outputs": [
    {
     "data": {
      "text/html": [
       "<div>\n",
       "<style scoped>\n",
       "    .dataframe tbody tr th:only-of-type {\n",
       "        vertical-align: middle;\n",
       "    }\n",
       "\n",
       "    .dataframe tbody tr th {\n",
       "        vertical-align: top;\n",
       "    }\n",
       "\n",
       "    .dataframe thead th {\n",
       "        text-align: right;\n",
       "    }\n",
       "</style>\n",
       "<table border=\"1\" class=\"dataframe\">\n",
       "  <thead>\n",
       "    <tr style=\"text-align: right;\">\n",
       "      <th></th>\n",
       "      <th>words</th>\n",
       "      <th>frequency_time</th>\n",
       "      <th>likes_mean</th>\n",
       "      <th>likes_median</th>\n",
       "      <th>dislikes_mean</th>\n",
       "      <th>dislikes_median</th>\n",
       "      <th>views_mean</th>\n",
       "      <th>views_median</th>\n",
       "      <th>polarity</th>\n",
       "      <th>subjectivity</th>\n",
       "    </tr>\n",
       "  </thead>\n",
       "  <tbody>\n",
       "    <tr>\n",
       "      <th>0</th>\n",
       "      <td>binging</td>\n",
       "      <td>[0, 0, 0, 0, 0, 0, 0, 0, 0, 0, 0, 0, 0, 0, 0, ...</td>\n",
       "      <td>98063</td>\n",
       "      <td>90976</td>\n",
       "      <td>1307</td>\n",
       "      <td>1050</td>\n",
       "      <td>5974777</td>\n",
       "      <td>5138365</td>\n",
       "      <td>0.0</td>\n",
       "      <td>0.0</td>\n",
       "    </tr>\n",
       "    <tr>\n",
       "      <th>1</th>\n",
       "      <td>pie</td>\n",
       "      <td>[0, 1, 0, 0, 0, 1, 0, 0, 0, 0, 3, 0, 0, 0, 0, ...</td>\n",
       "      <td>27906</td>\n",
       "      <td>5827</td>\n",
       "      <td>497</td>\n",
       "      <td>99</td>\n",
       "      <td>1731450</td>\n",
       "      <td>816877</td>\n",
       "      <td>0.0</td>\n",
       "      <td>0.0</td>\n",
       "    </tr>\n",
       "    <tr>\n",
       "      <th>2</th>\n",
       "      <td>love</td>\n",
       "      <td>[1, 3, 2, 7, 5, 4, 2, 2, 3, 2, 1, 6, 1, 0, 3, ...</td>\n",
       "      <td>35093</td>\n",
       "      <td>24134</td>\n",
       "      <td>393</td>\n",
       "      <td>161</td>\n",
       "      <td>1786182</td>\n",
       "      <td>821229</td>\n",
       "      <td>0.5</td>\n",
       "      <td>0.6</td>\n",
       "    </tr>\n",
       "    <tr>\n",
       "      <th>3</th>\n",
       "      <td>actually</td>\n",
       "      <td>[0, 0, 0, 1, 1, 0, 0, 0, 0, 0, 0, 0, 0, 0, 1, ...</td>\n",
       "      <td>66876</td>\n",
       "      <td>37769.5</td>\n",
       "      <td>1146</td>\n",
       "      <td>676</td>\n",
       "      <td>2512649</td>\n",
       "      <td>2.57215e+06</td>\n",
       "      <td>0.0</td>\n",
       "      <td>0.1</td>\n",
       "    </tr>\n",
       "    <tr>\n",
       "      <th>4</th>\n",
       "      <td>happy</td>\n",
       "      <td>[0, 1, 0, 1, 0, 0, 0, 1, 0, 0, 0, 1, 1, 1, 0, ...</td>\n",
       "      <td>23188</td>\n",
       "      <td>4967.5</td>\n",
       "      <td>285</td>\n",
       "      <td>57.5</td>\n",
       "      <td>1699886</td>\n",
       "      <td>552900</td>\n",
       "      <td>0.8</td>\n",
       "      <td>1.0</td>\n",
       "    </tr>\n",
       "    <tr>\n",
       "      <th>...</th>\n",
       "      <td>...</td>\n",
       "      <td>...</td>\n",
       "      <td>...</td>\n",
       "      <td>...</td>\n",
       "      <td>...</td>\n",
       "      <td>...</td>\n",
       "      <td>...</td>\n",
       "      <td>...</td>\n",
       "      <td>...</td>\n",
       "      <td>...</td>\n",
       "    </tr>\n",
       "    <tr>\n",
       "      <th>6808</th>\n",
       "      <td>darkness</td>\n",
       "      <td>[0, 1, 0, 0, 0, 0, 0, 0, 0, 0, 0, 0, 0, 0, 0, ...</td>\n",
       "      <td>22573</td>\n",
       "      <td>22573</td>\n",
       "      <td>209</td>\n",
       "      <td>209</td>\n",
       "      <td>1825511</td>\n",
       "      <td>1825511</td>\n",
       "      <td>0.0</td>\n",
       "      <td>0.0</td>\n",
       "    </tr>\n",
       "    <tr>\n",
       "      <th>6809</th>\n",
       "      <td>haunts</td>\n",
       "      <td>[0, 1, 0, 0, 0, 0, 0, 0, 0, 0, 0, 0, 0, 0, 0, ...</td>\n",
       "      <td>22573</td>\n",
       "      <td>22573</td>\n",
       "      <td>209</td>\n",
       "      <td>209</td>\n",
       "      <td>1825511</td>\n",
       "      <td>1825511</td>\n",
       "      <td>0.0</td>\n",
       "      <td>0.0</td>\n",
       "    </tr>\n",
       "    <tr>\n",
       "      <th>6810</th>\n",
       "      <td>synchronize</td>\n",
       "      <td>[1, 0, 0, 0, 0, 0, 0, 0, 0, 0, 0, 0, 0, 0, 0, ...</td>\n",
       "      <td>30682</td>\n",
       "      <td>30682</td>\n",
       "      <td>314</td>\n",
       "      <td>314</td>\n",
       "      <td>2894904</td>\n",
       "      <td>2894904</td>\n",
       "      <td>0.0</td>\n",
       "      <td>0.0</td>\n",
       "    </tr>\n",
       "    <tr>\n",
       "      <th>6811</th>\n",
       "      <td>worst</td>\n",
       "      <td>[1, 0, 0, 0, 0, 0, 0, 0, 0, 0, 0, 0, 0, 0, 0, ...</td>\n",
       "      <td>58005</td>\n",
       "      <td>58005</td>\n",
       "      <td>1694</td>\n",
       "      <td>1694</td>\n",
       "      <td>1688890</td>\n",
       "      <td>1688890</td>\n",
       "      <td>-1.0</td>\n",
       "      <td>1.0</td>\n",
       "    </tr>\n",
       "    <tr>\n",
       "      <th>6812</th>\n",
       "      <td>investigate</td>\n",
       "      <td>[1, 0, 0, 0, 0, 0, 0, 0, 0, 0, 0, 0, 0, 0, 0, ...</td>\n",
       "      <td>58005</td>\n",
       "      <td>58005</td>\n",
       "      <td>1694</td>\n",
       "      <td>1694</td>\n",
       "      <td>1688890</td>\n",
       "      <td>1688890</td>\n",
       "      <td>0.0</td>\n",
       "      <td>0.0</td>\n",
       "    </tr>\n",
       "  </tbody>\n",
       "</table>\n",
       "<p>6813 rows × 10 columns</p>\n",
       "</div>"
      ],
      "text/plain": [
       "            words                                     frequency_time  \\\n",
       "0         binging  [0, 0, 0, 0, 0, 0, 0, 0, 0, 0, 0, 0, 0, 0, 0, ...   \n",
       "1             pie  [0, 1, 0, 0, 0, 1, 0, 0, 0, 0, 3, 0, 0, 0, 0, ...   \n",
       "2            love  [1, 3, 2, 7, 5, 4, 2, 2, 3, 2, 1, 6, 1, 0, 3, ...   \n",
       "3        actually  [0, 0, 0, 1, 1, 0, 0, 0, 0, 0, 0, 0, 0, 0, 1, ...   \n",
       "4           happy  [0, 1, 0, 1, 0, 0, 0, 1, 0, 0, 0, 1, 1, 1, 0, ...   \n",
       "...           ...                                                ...   \n",
       "6808     darkness  [0, 1, 0, 0, 0, 0, 0, 0, 0, 0, 0, 0, 0, 0, 0, ...   \n",
       "6809       haunts  [0, 1, 0, 0, 0, 0, 0, 0, 0, 0, 0, 0, 0, 0, 0, ...   \n",
       "6810  synchronize  [1, 0, 0, 0, 0, 0, 0, 0, 0, 0, 0, 0, 0, 0, 0, ...   \n",
       "6811        worst  [1, 0, 0, 0, 0, 0, 0, 0, 0, 0, 0, 0, 0, 0, 0, ...   \n",
       "6812  investigate  [1, 0, 0, 0, 0, 0, 0, 0, 0, 0, 0, 0, 0, 0, 0, ...   \n",
       "\n",
       "     likes_mean likes_median dislikes_mean dislikes_median views_mean  \\\n",
       "0         98063        90976          1307            1050    5974777   \n",
       "1         27906         5827           497              99    1731450   \n",
       "2         35093        24134           393             161    1786182   \n",
       "3         66876      37769.5          1146             676    2512649   \n",
       "4         23188       4967.5           285            57.5    1699886   \n",
       "...         ...          ...           ...             ...        ...   \n",
       "6808      22573        22573           209             209    1825511   \n",
       "6809      22573        22573           209             209    1825511   \n",
       "6810      30682        30682           314             314    2894904   \n",
       "6811      58005        58005          1694            1694    1688890   \n",
       "6812      58005        58005          1694            1694    1688890   \n",
       "\n",
       "     views_median  polarity  subjectivity  \n",
       "0         5138365       0.0           0.0  \n",
       "1          816877       0.0           0.0  \n",
       "2          821229       0.5           0.6  \n",
       "3     2.57215e+06       0.0           0.1  \n",
       "4          552900       0.8           1.0  \n",
       "...           ...       ...           ...  \n",
       "6808      1825511       0.0           0.0  \n",
       "6809      1825511       0.0           0.0  \n",
       "6810      2894904       0.0           0.0  \n",
       "6811      1688890      -1.0           1.0  \n",
       "6812      1688890       0.0           0.0  \n",
       "\n",
       "[6813 rows x 10 columns]"
      ]
     },
     "execution_count": 6,
     "metadata": {},
     "output_type": "execute_result"
    }
   ],
   "source": [
    "data['cooking']"
   ]
  },
  {
   "cell_type": "markdown",
   "metadata": {},
   "source": [
    "Here, the rows represent the words, and the columns represent their respective data points."
   ]
  },
  {
   "cell_type": "markdown",
   "metadata": {},
   "source": [
    "Let's look at an example row."
   ]
  },
  {
   "cell_type": "code",
   "execution_count": 7,
   "metadata": {},
   "outputs": [
    {
     "data": {
      "text/plain": [
       "words                                                        binging\n",
       "frequency_time     [0, 0, 0, 0, 0, 0, 0, 0, 0, 0, 0, 0, 0, 0, 0, ...\n",
       "likes_mean                                                     98063\n",
       "likes_median                                                   90976\n",
       "dislikes_mean                                                   1307\n",
       "dislikes_median                                                 1050\n",
       "views_mean                                                   5974777\n",
       "views_median                                                 5138365\n",
       "polarity                                                           0\n",
       "subjectivity                                                       0\n",
       "Name: 0, dtype: object"
      ]
     },
     "execution_count": 7,
     "metadata": {},
     "output_type": "execute_result"
    }
   ],
   "source": [
    "data['cooking'].loc[0, :]"
   ]
  },
  {
   "cell_type": "markdown",
   "metadata": {},
   "source": [
    "Most of the columns are self explanatory: likes_mean is the mean number of likes that this word is associated with, likes_median is the median number of likes that this word is associated with, dislikes_mean is the mean number of dislikes that this word is associated with, and so on."
   ]
  },
  {
   "cell_type": "markdown",
   "metadata": {},
   "source": [
    "The only complex column is 'frequency_time'. It is a list where each element describes the frequency of the word used per month of a year. As is mentioned in the function 'generate_DF', the 'year_begin' and 'year_end' arguments decide the number of elements in 'frequency_time'. For example, if year_begin=2004 and year_end=2006, then number of elements in 'frequency_time' would be (2006-2004+1)*12=36"
   ]
  },
  {
   "cell_type": "markdown",
   "metadata": {},
   "source": [
    "### Description:\n",
    "This third piece of code represents a function that analyzes a given piece of text based on a given genre and metric, generates a word-by-word categorization of the string (either \"red\", \"yellow\", \"green\", or \"white\": for meaning of each, look at the documentation) and an overall score for the text for the given metric."
   ]
  },
  {
   "cell_type": "code",
   "execution_count": 8,
   "metadata": {},
   "outputs": [],
   "source": [
    "def analyze_text(text, genre, metric):\n",
    "    '''\n",
    "    Purpose: \n",
    "    Analyze the given text and produce color labels for the words as well as generate an overall score based on the\n",
    "    given genre and metric\n",
    "    \n",
    "    Input:\n",
    "    text = str; scalar depicting the text that needs to be analyzed\n",
    "    genre = str; scalar depicting the genre of the content: \"cooking\", \"gaming\", \"influencers\"\n",
    "    metric = str; scalar depicting the metric to base the analysis on: \"likes_mean\", \"likes_median\",\n",
    "             \"dislikes_mean\", \"dislikes_median\", \"views_mean\", \"views_median\", \"polarity\", \"subjectivity\"\n",
    "    \n",
    "    Output:\n",
    "    analysis = list; a list with the same number of elements as number of words in given text, with each\n",
    "               corresponding element being the color for that word: \"red\" means bad, \"yellow\" means okay, \"green\"\n",
    "               means good and \"white\" means \"Not found\" (in database)\n",
    "    score_avg = float; average value of the score: float or \"Not applicable\" (if none of the words matched the\n",
    "                database)\n",
    "               \n",
    "    '''\n",
    "    from textblob import TextBlob\n",
    "    import pickle\n",
    "    pickle.load(open('data_project.p', 'rb'))\n",
    "    Blob = TextBlob(text)\n",
    "    scores = []\n",
    "    df_genre = data[genre]\n",
    "    score_avg = 0\n",
    "    counter = 0\n",
    "    for word in list(Blob.words):\n",
    "        if word in list(df_genre.words):\n",
    "            word_index = df_genre.words[df_genre.words==word].index[0]\n",
    "            scores.append(df_genre[metric][word_index])\n",
    "            score_avg += df_genre[metric][word_index]\n",
    "            counter += 1\n",
    "        else:\n",
    "            scores.append(\"Not found\")\n",
    "    if counter > 0:\n",
    "        score_avg = score_avg/counter\n",
    "    else:\n",
    "        score_avg = \"Not Applicable\"\n",
    "    intervals = [df_genre[metric].mean()-df_genre[metric].std(), df_genre[metric].mean()+df_genre[metric].std()]\n",
    "    analysis = []\n",
    "    for score in scores:\n",
    "        if score==\"Not found\":\n",
    "            analysis.append(\"white\")\n",
    "            continue\n",
    "        if score<=intervals[0]:\n",
    "            analysis.append(\"red\")\n",
    "        elif score>intervals[0] and score<=intervals[1]:\n",
    "            analysis.append(\"yellow\");\n",
    "        elif score>intervals[1]:\n",
    "            analysis.append(\"green\")\n",
    "    return analysis, score_avg"
   ]
  },
  {
   "cell_type": "markdown",
   "metadata": {},
   "source": [
    "Here's an example of how to use this."
   ]
  },
  {
   "cell_type": "code",
   "execution_count": 9,
   "metadata": {},
   "outputs": [],
   "source": [
    "categorization, overall_score = analyze_text(\"Hi, today we will cook pork\", \"cooking\", \"likes_mean\")"
   ]
  },
  {
   "cell_type": "code",
   "execution_count": 10,
   "metadata": {},
   "outputs": [
    {
     "data": {
      "text/plain": [
       "['white', 'yellow', 'white', 'yellow', 'yellow', 'yellow']"
      ]
     },
     "execution_count": 10,
     "metadata": {},
     "output_type": "execute_result"
    }
   ],
   "source": [
    "categorization"
   ]
  },
  {
   "cell_type": "code",
   "execution_count": 11,
   "metadata": {},
   "outputs": [
    {
     "data": {
      "text/plain": [
       "29914.25"
      ]
     },
     "execution_count": 11,
     "metadata": {},
     "output_type": "execute_result"
    }
   ],
   "source": [
    "overall_score"
   ]
  }
 ],
 "metadata": {
  "kernelspec": {
   "display_name": "Python 3",
   "language": "python",
   "name": "python3"
  },
  "language_info": {
   "codemirror_mode": {
    "name": "ipython",
    "version": 3
   },
   "file_extension": ".py",
   "mimetype": "text/x-python",
   "name": "python",
   "nbconvert_exporter": "python",
   "pygments_lexer": "ipython3",
   "version": "3.8.2"
  }
 },
 "nbformat": 4,
 "nbformat_minor": 4
}
